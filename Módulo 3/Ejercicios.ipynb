{
 "cells": [
  {
   "cell_type": "code",
   "execution_count": 23,
   "metadata": {},
   "outputs": [
    {
     "name": "stdout",
     "output_type": "stream",
     "text": [
      "¡Alerta! ¡Un asteroide se dirige a velocidades peligrosas\n"
     ]
    }
   ],
   "source": [
    "asteroide = 90\n",
    "if asteroide > 25:\n",
    " print (\"¡Alerta! ¡Un asteroide se acerca a velocidades peligrosas\")\n",
    "else:\n",
    "    print (\"¡Sigue con tu día!\")"
   ]
  },
  {
   "cell_type": "code",
   "execution_count": 1,
   "metadata": {},
   "outputs": [
    {
     "name": "stdout",
     "output_type": "stream",
     "text": [
      "¡Miren arriba! ¡Hay una luz mágica en el cielo\n"
     ]
    }
   ],
   "source": [
    "asteroide = 252\n",
    "if asteroide > 20:\n",
    "    print(\"¡Miren arriba! ¡Hay una luz mágica en el cielo\")\n",
    "elif asteroide == 20:\n",
    "        print (\"¡Miren arriba! ¡Hay una luz mágica en el cielo!\")\n",
    "else:\n",
    "    print(\"¡Nada que ver por aquí!\")"
   ]
  },
  {
   "cell_type": "code",
   "execution_count": 10,
   "metadata": {},
   "outputs": [
    {
     "name": "stdout",
     "output_type": "stream",
     "text": [
      "Nada que ver aquí :)\n"
     ]
    }
   ],
   "source": [
    "velocidad_asteroide= 19\n",
    "tamano_asteroide= 26\n",
    "if velocidad_asteroide > 25 and tamano_asteroide > 25:\n",
    "    print(\"¡Alerta! Un asteroide de gran tamaño se acerca a la tierra a una velocidad alarmante\")\n",
    "elif velocidad_asteroide >= 20:\n",
    "        print(\"Un destello de luz se puede observar en el cielo\")\n",
    "elif tamano_asteroide < 25:\n",
    "    print('Nada que ver aquí :)')\n",
    "else:\n",
    "    print('Nada que ver aquí :)')"
   ]
  }
 ],
 "metadata": {
  "interpreter": {
   "hash": "298c627606265ae333b22f9fbba2eb7a6140d6069f63f3d990a6671aceed153d"
  },
  "kernelspec": {
   "display_name": "Python 3.10.2 64-bit",
   "language": "python",
   "name": "python3"
  },
  "language_info": {
   "codemirror_mode": {
    "name": "ipython",
    "version": 3
   },
   "file_extension": ".py",
   "mimetype": "text/x-python",
   "name": "python",
   "nbconvert_exporter": "python",
   "pygments_lexer": "ipython3",
   "version": "3.10.2"
  },
  "orig_nbformat": 4
 },
 "nbformat": 4,
 "nbformat_minor": 2
}
