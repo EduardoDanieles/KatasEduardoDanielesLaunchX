{
 "cells": [
  {
   "cell_type": "code",
   "execution_count": 10,
   "metadata": {},
   "outputs": [],
   "source": [
    "planetas = ['Mercurio', 'Venus', 'Tierra', 'Marte', 'Júpiter', 'Saturno', 'Urano', 'Neptuno']"
   ]
  },
  {
   "cell_type": "code",
   "execution_count": 11,
   "metadata": {},
   "outputs": [],
   "source": [
    "planeta_usuario = input('Por favor, escribe el planeta que buscas con la primera letra en mayúscula.')"
   ]
  },
  {
   "cell_type": "code",
   "execution_count": 12,
   "metadata": {},
   "outputs": [
    {
     "name": "stdout",
     "output_type": "stream",
     "text": [
      "El planeta escrito es el 7 en el sistema solar.\n"
     ]
    }
   ],
   "source": [
    "planeta_index = planetas.index(planeta_usuario)\n",
    "print('El planeta escrito es el', planeta_index + 1, 'en el sistema solar.')"
   ]
  },
  {
   "cell_type": "code",
   "execution_count": 13,
   "metadata": {},
   "outputs": [
    {
     "name": "stdout",
     "output_type": "stream",
     "text": [
      "Los planetas más cercanos al sol que Urano son:\n",
      "['Mercurio', 'Venus', 'Tierra', 'Marte', 'Júpiter', 'Saturno']\n"
     ]
    }
   ],
   "source": [
    "print('Los planetas más cercanos al sol que ' + planeta_usuario, 'son:')\n",
    "print(planetas[0:planeta_index])"
   ]
  },
  {
   "cell_type": "code",
   "execution_count": 14,
   "metadata": {},
   "outputs": [
    {
     "name": "stdout",
     "output_type": "stream",
     "text": [
      "Por lo tanto, los planetas más alejados al sol que Urano son:\n",
      "['Neptuno']\n"
     ]
    }
   ],
   "source": [
    "print('Por lo tanto, los planetas más alejados al sol que '+ planeta_usuario, 'son:')\n",
    "print(planetas[planeta_index + 1:])"
   ]
  }
 ],
 "metadata": {
  "interpreter": {
   "hash": "00d690ff16e4b87c70533c6b4b013038350646d40fbf81bad01545db0b0ea6c4"
  },
  "kernelspec": {
   "display_name": "Python 3.10.2 64-bit (windows store)",
   "language": "python",
   "name": "python3"
  },
  "language_info": {
   "codemirror_mode": {
    "name": "ipython",
    "version": 3
   },
   "file_extension": ".py",
   "mimetype": "text/x-python",
   "name": "python",
   "nbconvert_exporter": "python",
   "pygments_lexer": "ipython3",
   "version": "3.10.2"
  },
  "orig_nbformat": 4
 },
 "nbformat": 4,
 "nbformat_minor": 2
}
