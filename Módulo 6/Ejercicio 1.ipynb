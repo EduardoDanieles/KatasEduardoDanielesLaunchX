{
 "cells": [
  {
   "cell_type": "code",
   "execution_count": 24,
   "metadata": {},
   "outputs": [
    {
     "name": "stdout",
     "output_type": "stream",
     "text": [
      "Hay 8 planetas en el sistema solar.\n"
     ]
    }
   ],
   "source": [
    "planetas = ['Mercurio', 'Venus', 'Tierra', 'Marte', 'Júpiter', 'Saturno', 'Urano', 'Neptuno']\n",
    "numero_planetas = len(planetas)\n",
    "print('Hay', numero_planetas, 'planetas en el sistema solar.')"
   ]
  },
  {
   "cell_type": "code",
   "execution_count": 25,
   "metadata": {},
   "outputs": [
    {
     "name": "stdout",
     "output_type": "stream",
     "text": [
      "En realidad hay 9 planetas en el sistema solar.\n",
      "Y el último es Plutón\n"
     ]
    }
   ],
   "source": [
    "planetas.append('Plutón')\n",
    "numero_planetas = len(planetas)\n",
    "print('En realidad hay', numero_planetas, 'planetas en el sistema solar.')\n",
    "print('Y el último es', planetas[-1])\n",
    "\n"
   ]
  }
 ],
 "metadata": {
  "interpreter": {
   "hash": "00d690ff16e4b87c70533c6b4b013038350646d40fbf81bad01545db0b0ea6c4"
  },
  "kernelspec": {
   "display_name": "Python 3.10.2 64-bit (windows store)",
   "language": "python",
   "name": "python3"
  },
  "language_info": {
   "codemirror_mode": {
    "name": "ipython",
    "version": 3
   },
   "file_extension": ".py",
   "mimetype": "text/x-python",
   "name": "python",
   "nbconvert_exporter": "python",
   "pygments_lexer": "ipython3",
   "version": "3.10.2"
  },
  "orig_nbformat": 4
 },
 "nbformat": 4,
 "nbformat_minor": 2
}
